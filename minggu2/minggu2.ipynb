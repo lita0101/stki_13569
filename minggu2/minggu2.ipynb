{
 "cells": [
  {
   "cell_type": "code",
   "execution_count": 1,
   "metadata": {},
   "outputs": [],
   "source": [
    "from nltk.corpus import stopwords\n",
    "from nltk.tokenize import word_tokenize\n",
    "from nltk.stem import PorterStemmer\n",
    "from nltk.stem import WordNetLemmatizer"
   ]
  },
  {
   "cell_type": "code",
   "execution_count": 2,
   "metadata": {},
   "outputs": [],
   "source": [
    "# Kalimat contoh\n",
    "text = \"Pemrosesan bahasa alami adalah cabang ilmu komputer yang berfokus pada interaksi manusia dan komputer.\""
   ]
  },
  {
   "cell_type": "code",
   "execution_count": 3,
   "metadata": {},
   "outputs": [],
   "source": [
    "# Tokenisasi - Memecah kalimat menjadi kata-kata\n",
    "words = word_tokenize(text)\n",
    "\n",
    "# Menghapus stopwords (kata-kata umum yang sering tidak relevan)\n",
    "stop_words = set(stopwords.words('english'))\n",
    "filtered_words = [word for word in words if word.lower() not in stop_words]\n",
    "\n",
    "# Stemming - Mengubah kata-kata menjadi bentuk dasarnya\n",
    "stemmer = PorterStemmer()\n",
    "stemmed_words = [stemmer.stem(word) for word in filtered_words]\n",
    "\n",
    "# Lematisasi - Mengubah kata-kata menjadi bentuk dasarnya (lema)\n",
    "lemmatizer = WordNetLemmatizer()\n",
    "lemmatized_words = [lemmatizer.lemmatize(word) for word in filtered_words]"
   ]
  },
  {
   "cell_type": "code",
   "execution_count": 4,
   "metadata": {},
   "outputs": [
    {
     "name": "stdout",
     "output_type": "stream",
     "text": [
      "Kalimat Asli: Pemrosesan bahasa alami adalah cabang ilmu komputer yang berfokus pada interaksi manusia dan komputer.\n",
      "Tokenisasi: ['Pemrosesan', 'bahasa', 'alami', 'adalah', 'cabang', 'ilmu', 'komputer', 'yang', 'berfokus', 'pada', 'interaksi', 'manusia', 'dan', 'komputer', '.']\n",
      "Tanpa Stopwords: ['Pemrosesan', 'bahasa', 'alami', 'adalah', 'cabang', 'ilmu', 'komputer', 'yang', 'berfokus', 'pada', 'interaksi', 'manusia', 'dan', 'komputer', '.']\n",
      "Stemming: ['pemrosesan', 'bahasa', 'alami', 'adalah', 'cabang', 'ilmu', 'komput', 'yang', 'berfoku', 'pada', 'interaksi', 'manusia', 'dan', 'komput', '.']\n",
      "Lematisasi: ['Pemrosesan', 'bahasa', 'alami', 'adalah', 'cabang', 'ilmu', 'komputer', 'yang', 'berfokus', 'pada', 'interaksi', 'manusia', 'dan', 'komputer', '.']\n"
     ]
    }
   ],
   "source": [
    "# Hasil pra-pemrosesan\n",
    "print(\"Kalimat Asli:\", text)\n",
    "print(\"Tokenisasi:\", words)\n",
    "print(\"Tanpa Stopwords:\", filtered_words)\n",
    "print(\"Stemming:\", stemmed_words)\n",
    "print(\"Lematisasi:\", lemmatized_words)"
   ]
  }
 ],
 "metadata": {
  "kernelspec": {
   "display_name": ".venv",
   "language": "python",
   "name": "python3"
  },
  "language_info": {
   "codemirror_mode": {
    "name": "ipython",
    "version": 3
   },
   "file_extension": ".py",
   "mimetype": "text/x-python",
   "name": "python",
   "nbconvert_exporter": "python",
   "pygments_lexer": "ipython3",
   "version": "3.10.11"
  }
 },
 "nbformat": 4,
 "nbformat_minor": 2
}
