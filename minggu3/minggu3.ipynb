{
 "cells": [
  {
   "cell_type": "code",
   "execution_count": 1,
   "metadata": {},
   "outputs": [],
   "source": [
    "import nltk"
   ]
  },
  {
   "cell_type": "code",
   "execution_count": 2,
   "metadata": {},
   "outputs": [],
   "source": [
    "# Contoh dokumen\n",
    "documents = [\n",
    "    \"Kucing adalah hewan peliharaan yang lucu.\",\n",
    "    \"Anjing adalah teman setia manusia.\",\n",
    "    \"Burung sering terbang di langit biru.\"\n",
    "]\n",
    "\n",
    "# Tokenisasi teks\n",
    "tokenized_docs = [nltk.word_tokenize(doc) for doc in documents]"
   ]
  },
  {
   "cell_type": "code",
   "execution_count": 3,
   "metadata": {},
   "outputs": [],
   "source": [
    "# Membuat indeks Boolean\n",
    "term_index = {}\n",
    "for i, doc in enumerate(tokenized_docs):\n",
    "    for term in doc:\n",
    "        term = term.lower()\n",
    "        if term not in term_index:\n",
    "            term_index[term] = set()\n",
    "        term_index[term].add(i)"
   ]
  },
  {
   "cell_type": "code",
   "execution_count": 4,
   "metadata": {},
   "outputs": [],
   "source": [
    "# Implementasi operasi boolean (AND)\n",
    "def boolean_and(query, term_index):\n",
    "    terms = query.split()\n",
    "    result = set()\n",
    "    first_term = True\n",
    "    for term in terms:\n",
    "        term = term.lower()\n",
    "        if term in term_index:\n",
    "            if first_term:\n",
    "                result = term_index[term]\n",
    "                first_term = False\n",
    "            else:\n",
    "                result = result.intersection(term_index[term])\n",
    "        else:\n",
    "            return set()\n",
    "    return result"
   ]
  },
  {
   "cell_type": "code",
   "execution_count": 5,
   "metadata": {},
   "outputs": [
    {
     "name": "stdout",
     "output_type": "stream",
     "text": [
      "Dokumen yang cocok dengan query: kucing lucu\n",
      "Kucing adalah hewan peliharaan yang lucu.\n"
     ]
    }
   ],
   "source": [
    "# Contoh pencarian\n",
    "query = \"kucing lucu\"\n",
    "result = boolean_and(query, term_index)\n",
    "\n",
    "if result:\n",
    "    print(\"Dokumen yang cocok dengan query:\", query)\n",
    "    for doc_id in result:\n",
    "        print(documents[doc_id])\n",
    "else:\n",
    "    print(\"Tidak ada dokumen yang cocok dengan query:\", query)"
   ]
  }
 ],
 "metadata": {
  "kernelspec": {
   "display_name": ".venv",
   "language": "python",
   "name": "python3"
  },
  "language_info": {
   "codemirror_mode": {
    "name": "ipython",
    "version": 3
   },
   "file_extension": ".py",
   "mimetype": "text/x-python",
   "name": "python",
   "nbconvert_exporter": "python",
   "pygments_lexer": "ipython3",
   "version": "3.10.11"
  }
 },
 "nbformat": 4,
 "nbformat_minor": 2
}
